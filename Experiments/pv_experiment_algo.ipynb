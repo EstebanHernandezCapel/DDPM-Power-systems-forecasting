{
  "nbformat": 4,
  "nbformat_minor": 0,
  "metadata": {
    "colab": {
      "name": "pv_experiment_algo.ipynb",
      "provenance": [],
      "authorship_tag": "ABX9TyPjkmIQK1IubHw2vV7JGFp8",
      "include_colab_link": true
    },
    "kernelspec": {
      "name": "python3",
      "display_name": "Python 3"
    },
    "language_info": {
      "name": "python"
    }
  },
  "cells": [
    {
      "cell_type": "markdown",
      "metadata": {
        "id": "view-in-github",
        "colab_type": "text"
      },
      "source": [
        "<a href=\"https://colab.research.google.com/github/EstebanHernandezCapel/TFE/blob/main/Experiments/pv_experiment_algo.ipynb\" target=\"_parent\"><img src=\"https://colab.research.google.com/assets/colab-badge.svg\" alt=\"Open In Colab\"/></a>"
      ]
    },
    {
      "cell_type": "markdown",
      "source": [
        "#Import"
      ],
      "metadata": {
        "id": "cPU_8f-YF42U"
      }
    },
    {
      "cell_type": "code",
      "execution_count": 1,
      "metadata": {
        "colab": {
          "base_uri": "https://localhost:8080/"
        },
        "id": "z7EvK9yIF1Gj",
        "outputId": "fafdf3be-c468-424f-d25c-cfd5c6fc29e8"
      },
      "outputs": [
        {
          "output_type": "stream",
          "name": "stdout",
          "text": [
            "No CUDA runtime is found, using CUDA_HOME='/usr/local/cuda'\n",
            "Looking in indexes: https://pypi.org/simple, https://us-python.pkg.dev/colab-wheels/public/simple/\n",
            "Collecting numpyencoder\n",
            "  Downloading numpyencoder-0.3.0-py3-none-any.whl (3.0 kB)\n",
            "Requirement already satisfied: numpy>=1.14.3 in /usr/local/lib/python3.7/dist-packages (from numpyencoder) (1.21.6)\n",
            "Installing collected packages: numpyencoder\n",
            "Successfully installed numpyencoder-0.3.0\n",
            "Mounted at /content/drive\n"
          ]
        }
      ],
      "source": [
        "# -*- coding: utf-8 -*-\n",
        "\n",
        "import math\n",
        "import os\n",
        "import json\n",
        "import pickle\n",
        "import random\n",
        "from math import sqrt\n",
        "from functools import reduce\n",
        "# import wandb\n",
        "\n",
        "import pandas as pd\n",
        "import numpy as np\n",
        "import torch\n",
        "import torch.nn as nn\n",
        "import torch.optim as optim\n",
        "import torch.nn.functional as F\n",
        "from torch.utils.benchmark import timer\n",
        "from torch.utils.data import Dataset, DataLoader\n",
        "\n",
        "import matplotlib.pyplot as plt\n",
        "import seaborn as sns\n",
        "\n",
        "from sklearn.utils import shuffle\n",
        "from sklearn.model_selection import train_test_split\n",
        "from sklearn.preprocessing import StandardScaler\n",
        "from sklearn.metrics import mean_absolute_error, mean_squared_error\n",
        "\n",
        "!pip install numpyencoder\n",
        "from numpyencoder import NumpyEncoder\n",
        "\n",
        "import datetime\n",
        "from joblib import dump, load\n",
        "import joblib\n",
        "\n",
        "\n",
        "from google.colab import drive\n",
        "drive.mount('/content/drive')"
      ]
    },
    {
      "cell_type": "markdown",
      "source": [
        "# Loading and data Utility function"
      ],
      "metadata": {
        "id": "GOJ51e3OF8F_"
      }
    },
    {
      "cell_type": "code",
      "source": [
        "def periods_where_pv_is_null(df_inputs:pd.DataFrame):\n",
        "    \"\"\"\n",
        "    Compute the time periods where the PV generation is always 0 for the solar track.\n",
        "    :param df_inputs: solar track data.\n",
        "    :return: indices where PV is always 0.\n",
        "    \"\"\"\n",
        "    # Determine time periods where PV generation is 0\n",
        "    nb_days = int(df_inputs[df_inputs['ZONE_1'] == 1]['POWER'].shape[0] / 24)\n",
        "    max_zone1 = df_inputs[df_inputs['ZONE_1'] == 1]['POWER'].values.reshape(nb_days, 24).max(axis=0)\n",
        "    max_zone2 = df_inputs[df_inputs['ZONE_2'] == 1]['POWER'].values.reshape(nb_days, 24).max(axis=0)\n",
        "    max_zone3 = df_inputs[df_inputs['ZONE_3'] == 1]['POWER'].values.reshape(nb_days, 24).max(axis=0)\n",
        "\n",
        "    indices1 = np.where(max_zone1 == 0)[0]\n",
        "    indices2 = np.where(max_zone2 == 0)[0]\n",
        "    indices3 = np.where(max_zone3 == 0)[0]\n",
        "\n",
        "    print('zone 1', indices1)\n",
        "    print('zone 2', indices2)\n",
        "    print('zone 3', indices3)\n",
        "\n",
        "    return indices1\n",
        "\n",
        "def wind_data(path_name: str, random_state: int = 0, test_size:int=2*12*2):\n",
        "    \"\"\"\n",
        "    Build the wind power data for the GEFcom IJF_paper case study.\n",
        "    \"\"\"\n",
        "\n",
        "    df_wind = pd.read_csv(path_name, parse_dates=True, index_col=0)\n",
        "    ZONES = ['ZONE_' + str(i) for i in range(1, 10 + 1)]\n",
        "\n",
        "    # INPUTS DESCRIPTION\n",
        "    # The predictors included wind forecasts at two heights, 10 and 100 m above ground level, obtained from the European Centre for Medium-range Weather Forecasts (ECMWF).\n",
        "    # These forecasts were for the zonal and meridional wind components (denoted u and v), i.e., projections of the wind vector on the west-east and south-north axes, respectively.\n",
        "\n",
        "    # U10 zonal wind component at 10 m\n",
        "    # V10 meridional wind component at 10 m\n",
        "    # U100 zonal wind component at 100 m\n",
        "    # V100 meridional wind component at 100 m\n",
        "\n",
        "    # ------------------------------------------------------------------------------------------------------------------\n",
        "    # Build derived features\n",
        "    # cf winner GEFcom2014 wind track “Probabilistic gradient boosting machines for GEFCom2014 wind forecasting”\n",
        "    # ------------------------------------------------------------------------------------------------------------------\n",
        "\n",
        "    # the wind speed (ws), wind energy (we), and wind direction (wd) were as follows,\n",
        "    # where u and v are the wind components provided and d is the density, for which we used a constant 1.0\n",
        "    # ws = sqrt[u**2  + v**2]\n",
        "    # we = 0.5 × d × ws**3\n",
        "    # wd = 180/π × arctan(u, v)\n",
        "\n",
        "    df_wind['ws10'] = np.sqrt(df_wind['U10'].values ** 2 + df_wind['V10'].values ** 2)\n",
        "    df_wind['ws100'] = np.sqrt(df_wind['U100'].values ** 2 + df_wind['V100'].values ** 2)\n",
        "    df_wind['we10'] = 0.5 * 1 * df_wind['ws10'].values ** 3\n",
        "    df_wind['we100'] = 0.5 * 1 * df_wind['ws100'].values ** 3\n",
        "    df_wind['wd10'] = np.arctan2(df_wind['U10'].values, df_wind['V10'].values) * 180 / np.pi\n",
        "    df_wind['wd100'] = np.arctan2(df_wind['U100'].values, df_wind['V100'].values) * 180 / np.pi\n",
        "\n",
        "    features = ['U10', 'V10', 'U100', 'V100', 'ws10', 'ws100', 'we10', 'we100', 'wd10', 'wd100']\n",
        "\n",
        "    data_zone = []\n",
        "    for zone in ZONES:\n",
        "        df_var = df_wind[df_wind[zone] == 1].copy()\n",
        "        nb_days = int(len(df_var) / 24)\n",
        "        zones = [df_var[zone].values.reshape(nb_days, 24)[:, 0].reshape(nb_days, 1) for zone in ZONES]\n",
        "        x = np.concatenate([df_var[col].values.reshape(nb_days, 24) for col in features] + zones, axis=1)\n",
        "        y = df_var['TARGETVAR'].values.reshape(nb_days, 24)\n",
        "        df_y = pd.DataFrame(data=y, index=df_var['TARGETVAR'].asfreq('D').index)\n",
        "        df_x = pd.DataFrame(data=x, index=df_var['TARGETVAR'].asfreq('D').index)\n",
        "\n",
        "        # Decomposition between LS, VS & TEST sets (TRAIN = LS + VS)\n",
        "        df_x_train, df_x_TEST, df_y_train, df_y_TEST = train_test_split(df_x, df_y, test_size=test_size,random_state=random_state, shuffle=True)\n",
        "        df_x_LS, df_x_VS, df_y_LS, df_y_VS = train_test_split(df_x_train, df_y_train, test_size=test_size,random_state=random_state, shuffle=True)\n",
        "\n",
        "        data_zone.append([df_x_LS, df_y_LS, df_x_VS, df_y_VS, df_x_TEST, df_y_TEST])\n",
        "\n",
        "        nb_days_LS = len(df_y_LS)\n",
        "        nb_days_VS = len(df_y_VS)\n",
        "        nb_days_TEST = len(df_y_TEST)\n",
        "        print('#LS %s days #VS %s days # TEST %s days' % (nb_days_LS, nb_days_VS, nb_days_TEST))\n",
        "\n",
        "    return [pd.concat([data_zone[i][j] for i in range(0, 9 + 1)], axis=0, join='inner') for j in range(0, 5 + 1)]\n",
        "\n",
        "\n",
        "def load_data(path_name: str, random_state: int = 0, test_size:int=2*12*2):\n",
        "    \"\"\"\n",
        "    Build the load power data for the GEFcom IJF_paper case study.\n",
        "    \"\"\"\n",
        "    df_load = pd.read_csv(path_name, parse_dates=True, index_col=0)\n",
        "    features = ['w1', 'w2', 'w3', 'w4', 'w5', 'w6', 'w7', 'w8', 'w9', 'w10',\n",
        "                'w11', 'w12', 'w13', 'w14', 'w15', 'w16', 'w17', 'w18', 'w19', 'w20',\n",
        "                'w21', 'w22', 'w23', 'w24', 'w25']\n",
        "    max_load = df_load['LOAD'].max()\n",
        "\n",
        "    nb_days = int(len(df_load) / 24)\n",
        "    x = np.concatenate([df_load[col].values.reshape(nb_days, 24) for col in features], axis=1)\n",
        "    y = df_load['LOAD'].values.reshape(nb_days, 24) / max_load\n",
        "    df_y = pd.DataFrame(data=y, index=df_load['LOAD'].asfreq('D').index)\n",
        "    df_x = pd.DataFrame(data=x, index=df_load['LOAD'].asfreq('D').index)\n",
        "\n",
        "    # Decomposition between LS, VS & TEST sets (TRAIN = LS + VS)\n",
        "    df_x_train, df_x_TEST, df_y_train, df_y_TEST = train_test_split(df_x, df_y, test_size=test_size,\n",
        "                                                                    random_state=random_state, shuffle=True)\n",
        "    df_x_LS, df_x_VS, df_y_LS, df_y_VS = train_test_split(df_x_train, df_y_train, test_size=test_size,\n",
        "                                                          random_state=random_state, shuffle=True)\n",
        "\n",
        "    nb_days_LS = len(df_y_LS)\n",
        "    nb_days_VS = len(df_y_VS)\n",
        "    nb_days_TEST = len(df_y_TEST)\n",
        "    print('#LS %s days #VS %s days # TEST %s days' % (nb_days_LS, nb_days_VS, nb_days_TEST))\n",
        "\n",
        "    return df_x_LS, df_y_LS, df_x_VS, df_y_VS, df_x_TEST, df_y_TEST\n",
        "\n",
        "\n",
        "def build_pv_features(df_var:pd.DataFrame, indices:np.array):\n",
        "    \"\"\"\n",
        "    Build features for NFs multi-output.\n",
        "    :param df_var: (n_periods, n_features)\n",
        "    :param indices: index where PV generation is always 0.\n",
        "    # INPUTS DESCRIPTION\n",
        "    # Variable id. Variable name\n",
        "    # 078.128 Total column liquid water (tclw)\n",
        "    # 079.128 Total column ice water (tciw)\n",
        "    # 134.128 Surface pressure (SP)\n",
        "    # 157.128 Relative humidity at 1000 mbar (r)\n",
        "    # 164.128 Total cloud cover (TCC)\n",
        "    # 165.128 10-metre U wind component (10u)\n",
        "    # 166.128 10-metre V wind component (10v)\n",
        "    # 167.128 2-metre temperature (2T)\n",
        "    # 169.128 Surface solar rad down (SSRD)\n",
        "    # 175.128 Surface thermal rad down (STRD)\n",
        "    # 178.128 Top net solar rad (TSR)\n",
        "    # 228.128 Total precipitation (TP)\n",
        "    \"\"\"\n",
        "    n_days = int(len(df_var) / 24)  # n days\n",
        "\n",
        "    # Reshaping features from (24 * n_days,) to (n_days, 24) then drop time periods where PV is always 0\n",
        "    y = df_var['POWER'].values.reshape(n_days, 24)\n",
        "    y = np.delete(y, indices, axis=1)\n",
        "\n",
        "    tclw = df_var['VAR78'].values.reshape(n_days, 24)\n",
        "    tclw = np.delete(tclw, indices, axis=1)\n",
        "    tciw = df_var['VAR79'].values.reshape(n_days, 24)\n",
        "    tciw = np.delete(tciw, indices, axis=1)\n",
        "    sp = df_var['VAR134'].values.reshape(n_days, 24)\n",
        "    sp = np.delete(sp, indices, axis=1)\n",
        "    rh = df_var['VAR157'].values.reshape(n_days, 24)\n",
        "    rh = np.delete(rh, indices, axis=1)\n",
        "    TCC = df_var['VAR164'].values.reshape(n_days, 24)\n",
        "    TCC = np.delete(TCC, indices, axis=1)\n",
        "    windU = df_var['VAR165'].values.reshape(n_days, 24)\n",
        "    windU = np.delete(windU, indices, axis=1)\n",
        "    windV = df_var['VAR166'].values.reshape(n_days, 24)\n",
        "    windV = np.delete(windV, indices, axis=1)\n",
        "    TT = df_var['VAR167'].values.reshape(n_days, 24)\n",
        "    TT = np.delete(TT, indices, axis=1)\n",
        "    SSRD = df_var['VAR169'].values.reshape(n_days, 24)\n",
        "    SSRD = np.delete(SSRD, indices, axis=1)\n",
        "    STRD = df_var['VAR175'].values.reshape(n_days, 24)\n",
        "    STRD = np.delete(STRD, indices, axis=1)\n",
        "    TSR = df_var['VAR178'].values.reshape(n_days, 24)\n",
        "    TSR = np.delete(TSR, indices, axis=1)\n",
        "    TP = df_var['VAR228'].values.reshape(n_days, 24)\n",
        "    TP = np.delete(TP, indices, axis=1)\n",
        "    zone1 = df_var['ZONE_1'].values.reshape(n_days, 24)[:, 0].reshape(n_days, 1)\n",
        "    zone2 = df_var['ZONE_2'].values.reshape(n_days, 24)[:, 0].reshape(n_days, 1)\n",
        "    zone3 = df_var['ZONE_3'].values.reshape(n_days, 24)[:, 0].reshape(n_days, 1)\n",
        "\n",
        "    x = np.concatenate([TT, SSRD, np.multiply(SSRD, SSRD), np.multiply(SSRD, TT), rh, zone1, zone2, zone3], axis=1)\n",
        "\n",
        "    return x,y\n",
        "\n",
        "def pv_data(path_name: str, test_size:int, random_state:int=0):\n",
        "    \"\"\"\n",
        "    Build the PV data for the GEFcom IJF_paper case study.\n",
        "    \"\"\"\n",
        "\n",
        "    df_pv = pd.read_csv(path_name, parse_dates=True, index_col=0)\n",
        "\n",
        "    ZONES = ['ZONE_1', 'ZONE_2', 'ZONE_3']\n",
        "    indices = periods_where_pv_is_null(df_inputs=df_pv)\n",
        "\n",
        "    data_zone = []\n",
        "    for zone in ZONES:\n",
        "        df_var = df_pv[df_pv[zone] == 1].copy()\n",
        "        d_index = df_var['POWER'].asfreq('D').index\n",
        "        x, y = build_pv_features(df_var=df_var, indices=indices)\n",
        "\n",
        "        df_y = pd.DataFrame(data=y, index=d_index)\n",
        "        df_x = pd.DataFrame(data=x, index=d_index)\n",
        "\n",
        "        # Decomposition between LS, VS & TEST sets (TRAIN = LS + VS)\n",
        "        df_x_train, df_x_TEST, df_y_train, df_y_TEST = train_test_split(df_x, df_y, test_size=test_size, random_state=random_state, shuffle=True)\n",
        "        df_x_LS, df_x_VS, df_y_LS, df_y_VS = train_test_split(df_x_train, df_y_train, test_size=test_size, random_state=random_state, shuffle=True)\n",
        "\n",
        "        data_zone.append([df_x_LS, df_y_LS, df_x_VS, df_y_VS, df_x_TEST, df_y_TEST])\n",
        "\n",
        "        nb_days_LS = len(df_y_LS)\n",
        "        nb_days_VS = len(df_y_VS)\n",
        "        nb_days_TEST = len(df_y_TEST)\n",
        "        print('%s #LS %s days #VS %s days # TEST %s days' % (zone, nb_days_LS, nb_days_VS, nb_days_TEST))\n",
        "\n",
        "    return [pd.concat([data_zone[i][j] for i in [0, 1, 2]], axis=0, join='inner') for j in range(0, 5 + 1)], indices\n",
        "\n",
        "\n",
        "def scale_data_multi(x_LS: np.array, y_LS: np.array, x_VS: np.array, y_VS: np.array, x_TEST: np.array, y_TEST: np.array):\n",
        "    \"\"\"\n",
        "    Scale data for NFs multi-output.\n",
        "    \"\"\"\n",
        "    y_LS_scaler = StandardScaler()\n",
        "    y_LS_scaler.fit(y_LS)\n",
        "    y_LS_scaled = y_LS_scaler.transform(y_LS)\n",
        "    y_VS_scaled = y_LS_scaler.transform(y_VS)\n",
        "    y_TEST_scaled = y_LS_scaler.transform(y_TEST)\n",
        "\n",
        "    x_LS_scaler = StandardScaler()\n",
        "    x_LS_scaler.fit(x_LS)\n",
        "    x_LS_scaled = x_LS_scaler.transform(x_LS)\n",
        "    x_VS_scaled = x_LS_scaler.transform(x_VS)\n",
        "    x_TEST_scaled = x_LS_scaler.transform(x_TEST)\n",
        "\n",
        "    return x_LS_scaled, y_LS_scaled,  x_VS_scaled, y_VS_scaled, x_TEST_scaled, y_TEST_scaled, y_LS_scaler"
      ],
      "metadata": {
        "id": "ESA0fdcCGJ0V"
      },
      "execution_count": 2,
      "outputs": []
    },
    {
      "cell_type": "markdown",
      "source": [
        "#Setup the data"
      ],
      "metadata": {
        "id": "4odlnZkqGRCD"
      }
    },
    {
      "cell_type": "code",
      "source": [
        "# Set the working directory to the root of the project\n",
        "print(os.getcwd())\n",
        "\n",
        "device = torch.device(\"cuda:0\" if torch.cuda.is_available() else \"cpu\")\n",
        "print('Using gpu: %s ' % torch.cuda.is_available())\n",
        "\n",
        "# ------------------------------------------------------------------------------------------------------------------\n",
        "# GEFcom IJF_paper case study\n",
        "# Solar track: 3 zones\n",
        "# Wind track: 10 zones\n",
        "# Load track: 1 zones\n",
        "# 50 days picked randomly per zone for the VS and TEST sets\n",
        "\n",
        "# Decribe the model here\n",
        "# ------------------------------------------------------------------------------------------------------------------\n",
        "\n",
        "tag = 'pv'  # pv, wind, load\n",
        "gpu = True  # put False to use CPU\n",
        "print('Using gpu: %s ' % torch.cuda.is_available())\n",
        "if gpu:\n",
        "    device = torch.device(\"cuda:0\" if torch.cuda.is_available() else \"cpu\")\n",
        "\n",
        "dir_path = 'export/diff_' + tag + '/'\n",
        "if not os.path.isdir(dir_path):  # test if directory exist\n",
        "    os.makedirs(dir_path)\n",
        "\n",
        "# ------------------------------------------------------------------------------------------------------------------\n",
        "# Built the LS, VS, and TEST sets\n",
        "# ------------------------------------------------------------------------------------------------------------------\n",
        "\n",
        "if tag == 'pv':\n",
        "    # WARNING: the time periods where PV is always 0 (night hours) are removed -> there are 8 periods removed\n",
        "    # The index of the time periods removed are provided into indices\n",
        "    data, indices = pv_data(path_name='/content/drive/MyDrive/TFE/data/solar_new.csv', test_size=50, random_state=0)\n",
        "    ylim_loss = [0, 15]\n",
        "    ymax_plf = 2.5\n",
        "    ylim_crps = [0, 12]\n",
        "    nb_zones = 3\n",
        "\n",
        "elif tag == 'wind':\n",
        "    data = wind_data(path_name='/content/drive/MyDrive/TFE/data/wind_data_all_zone.csv', test_size=50, random_state=0)\n",
        "    ylim_loss = [0, 30]\n",
        "    ymax_plf = 8\n",
        "    ylim_crps = [6, 12]\n",
        "    nb_zones = 10\n",
        "    indices = []\n",
        "\n",
        "elif tag == 'load':\n",
        "    data = load_data(path_name= '/content/drive/MyDrive/TFE/data/load_data_track1.csv', test_size=50, random_state=0)\n",
        "    ylim_loss = [-5, 10]\n",
        "    ymax_plf = 2\n",
        "    ylim_crps = [0, 5]\n",
        "    nb_zones = 1\n",
        "    indices = []\n",
        "\n",
        "# reduce the LS size from 634 days to D days\n",
        "df_x_LS = data[0].copy()\n",
        "df_y_LS = data[1].copy()\n",
        "df_x_VS = data[2].copy()\n",
        "df_y_VS = data[3].copy()\n",
        "df_x_TEST = data[4].copy()\n",
        "df_y_TEST = data[5].copy()\n",
        "\n",
        "nb_days_LS = len(df_y_LS)\n",
        "nb_days_VS = len(df_y_VS)\n",
        "nb_days_TEST = len(df_y_TEST)\n",
        "\n",
        "ls_size = len(df_y_LS)\n",
        "vs_size = len(df_y_VS)\n",
        "test_size = len(df_y_TEST)\n",
        "\n",
        "print('#LS %s days #VS %s days # TEST %s days' % (nb_days_LS / nb_zones, nb_days_VS / nb_zones, nb_days_TEST / nb_zones))\n",
        "\n",
        "# ------------------------------------------------------------------------------------------------------------------\n",
        "# Scale the LS, VS, and TEST sets\n",
        "# ------------------------------------------------------------------------------------------------------------------\n",
        "\n",
        "# WARNING: use the scaler fitted on the TRAIN LS SET !!!!\n",
        "x_LS_scaled, y_LS_scaled, x_VS_scaled, y_VS_scaled, x_TEST_scaled, y_TEST_scaled, y_LS_scaler = scale_data_multi(x_LS=df_x_LS.values, y_LS=df_y_LS.values, x_VS=df_x_VS.values, y_VS=df_y_VS.values, x_TEST=df_x_TEST.values, y_TEST=df_y_TEST.values)\n",
        "\n",
        "print(tag)"
      ],
      "metadata": {
        "colab": {
          "base_uri": "https://localhost:8080/"
        },
        "id": "7ObB1c7pGPu9",
        "outputId": "f0034f62-7ecb-4c9f-c019-2c7eec18bcd9"
      },
      "execution_count": 3,
      "outputs": [
        {
          "output_type": "stream",
          "name": "stdout",
          "text": [
            "/content\n",
            "Using gpu: False \n",
            "Using gpu: False \n",
            "zone 1 [ 0  1  2  3 20 21 22 23]\n",
            "zone 2 [ 0  1  2  3 20 21 22 23]\n",
            "zone 3 [ 0  1  2  3 20 21 22 23]\n",
            "ZONE_1 #LS 720 days #VS 50 days # TEST 50 days\n",
            "ZONE_2 #LS 720 days #VS 50 days # TEST 50 days\n",
            "ZONE_3 #LS 720 days #VS 50 days # TEST 50 days\n",
            "#LS 720.0 days #VS 50.0 days # TEST 50.0 days\n",
            "pv\n"
          ]
        }
      ]
    },
    {
      "cell_type": "markdown",
      "source": [
        "#Energy score"
      ],
      "metadata": {
        "id": "DGG_pGQQKQXR"
      }
    },
    {
      "cell_type": "code",
      "source": [
        "def energy_score(s: np.array, y_true: np.array):\n",
        "    \"\"\"\n",
        "    Compute the Energy score (ES).\n",
        "    :param s: scenarios of shape (24*n_days, n_s)\n",
        "    :param y_true: observations of shape = (n_days, 24)\n",
        "    :return: the ES per day of the testing set.\n",
        "    \"\"\"\n",
        "\n",
        "    print(\"###########\")\n",
        "    print(s.shape)\n",
        "    print(y_true.shape)\n",
        "    n_periods = y_true.shape[1]\n",
        "    n_d = len(y_true)  # number of days\n",
        "    n_s = s.shape[1]  # number of scenarios per day\n",
        "    es = []\n",
        "    # loop on all days\n",
        "    for d in range(n_d):\n",
        "        # select a day for both the scenarios and observations\n",
        "        s_d = s[n_periods * d:n_periods * (d + 1), :]\n",
        "        y_d = y_true[d, :]\n",
        "\n",
        "        # compute the part of the ES\n",
        "        simple_sum = np.mean([np.linalg.norm(s_d[:, s] - y_d) for s in range(n_s)])\n",
        "\n",
        "        # compute the second part of the ES\n",
        "        double_somme = 0\n",
        "        for i in range(n_s):\n",
        "            for j in range(n_s):\n",
        "                double_somme += np.linalg.norm(s_d[:, i] - s_d[:, j])\n",
        "        double_sum = double_somme / (2 * n_s * n_s)\n",
        "\n",
        "        # ES per day\n",
        "        es_d = simple_sum - double_sum\n",
        "        es.append(es_d)\n",
        "    return es"
      ],
      "metadata": {
        "id": "_QRwi3N0KXBa"
      },
      "execution_count": 4,
      "outputs": []
    },
    {
      "cell_type": "markdown",
      "source": [
        "#Variogram"
      ],
      "metadata": {
        "id": "dHdxVj5KUmUg"
      }
    },
    {
      "cell_type": "code",
      "source": [
        "def variogram_score(s: np.array, y_true: np.array, beta: float):\n",
        "    \"\"\"\n",
        "    Compute the Variogram score (VS).\n",
        "    :param s: scenarios of shape (24*n_days, n_s)\n",
        "    :param y_true: observations of shape = (n_days, 24)\n",
        "    :param beta: order of the VS\n",
        "    :return: the VS per day of the testing set.\n",
        "    \"\"\"\n",
        "    \n",
        "    print(\"###########\")\n",
        "    print(s.shape)\n",
        "    print(y_true.shape)\n",
        "\n",
        "    n_periods = y_true.shape[1]\n",
        "    n_d = len(y_true)  # number of days\n",
        "    n_s = s.shape[1]  # number of scenarios per day\n",
        "    weights = 1  # equal weights across all hours of the day\n",
        "    vs = []\n",
        "    # loop on all days\n",
        "    for d in range(n_d):\n",
        "        # select a day for both the scenarios and observations\n",
        "        s_d = s[n_periods * d:n_periods * (d + 1), :]\n",
        "        y_d = y_true[d, :]\n",
        "\n",
        "        # Double loop on time periods of the day\n",
        "        vs_d = 0\n",
        "        for k1 in range(n_periods):\n",
        "            for k2 in range(n_periods):\n",
        "                # VS first part\n",
        "                first_part = np.abs(y_d[k1] - y_d[k2]) ** beta\n",
        "                second_part = 0\n",
        "                # Loop on all scenarios to compute VS second part\n",
        "                for i in range(n_s):\n",
        "                    second_part += np.abs(s_d[k1, i] - s_d[k2, i]) ** beta\n",
        "                second_part = second_part / n_s\n",
        "                vs_d += weights * (first_part - second_part) ** 2\n",
        "        # VS per day\n",
        "        vs.append(vs_d)\n",
        "    return vs"
      ],
      "metadata": {
        "id": "vQ9CH4iSUm5d"
      },
      "execution_count": 5,
      "outputs": []
    },
    {
      "cell_type": "markdown",
      "source": [
        "# Quantiles and marginals metrics"
      ],
      "metadata": {
        "id": "z6Y0IFsR7fCV"
      }
    },
    {
      "cell_type": "code",
      "source": [
        "def crps_nrg_marginal(y_true:float, y_sampled:np.array):\n",
        "    \"\"\"\n",
        "    Compute the CRPS NRG for a given time period k -> the CRPS is a univariate metric.\n",
        "    Therefore it has to be computed per marginal.\n",
        "    :param y_true: true value for this time period.\n",
        "    :param y_sampled: nb quantile/scenarios for time period k with shape(nb,)\n",
        "    \"\"\"\n",
        "    nb = y_sampled.shape[0] # Nb of quantiles/scenarios sampled.\n",
        "    simple_sum = np.sum(np.abs(y_sampled - y_true)) / nb\n",
        "    double_somme = 0\n",
        "    for i in range(nb):\n",
        "        for j in range(nb):\n",
        "            double_somme += np.abs(y_sampled[i] - y_sampled[j])\n",
        "    double_sum = double_somme / (2 * nb * nb)\n",
        "\n",
        "    crps = simple_sum  - double_sum\n",
        "\n",
        "    return crps\n",
        "\n",
        "def plf_per_quantile(quantiles:np.array, y_true:np.array):\n",
        "    \"\"\"\n",
        "    Compute PLF per quantile.\n",
        "    :param quantiles: (nb_periods, nb_quantiles)\n",
        "    :param y_true:  (nb_periods,)\n",
        "    :return: PLF per quantile into an array (nb_quantiles, )\n",
        "    \"\"\"\n",
        "    # quantile q from 0 to N_q -> add 1 to be from 1 to N_q into the PLF score\n",
        "    N_q = quantiles.shape[1]\n",
        "    plf = []\n",
        "    for q in range(0 ,N_q):\n",
        "        # for a given quantile compute the PLF over the entire dataset\n",
        "        diff = y_true - quantiles[:,q]\n",
        "        plf_q = sum(diff[diff >= 0] * ((q+1) / (N_q+1))) / len(diff) + sum(-diff[diff < 0] * (1 - (q+1) / (N_q+1))) / len(diff) # q from 0 to N_q-1 -> add 1 to be from 1 to N_q\n",
        "        plf.append(plf_q)\n",
        "    return 100 * np.asarray(plf)\n",
        "\n",
        "def plot_plf_per_quantile(plf_VS: np.array, plf_TEST: np.array, dir_path: str, name: str, ymax:float=None):\n",
        "    \"\"\"\n",
        "    Plot the quantile score (PLF = Pinball Loss Function) per quantile on the VS & TEST sets.\n",
        "    \"\"\"\n",
        "    FONTSIZE = 10\n",
        "    plt.figure()\n",
        "    plt.plot([q for q in range(1, len(plf_VS) + 1)], plf_TEST, 'b')\n",
        "    plt.hlines(y=plf_TEST.mean(), colors='b', xmin=1, xmax=len(plf_VS),  label='TEST av ' + str(round(plf_TEST.mean(), 4)))\n",
        "    plt.plot([q for q in range(1, len(plf_VS) + 1)], plf_VS, 'g')\n",
        "    plt.hlines(y=plf_VS.mean(), colors='g', xmin=1, xmax=len(plf_VS), label='VS av ' + str(round(plf_VS.mean(), 4)))\n",
        "    if ymax:\n",
        "        plt.ylim(0, ymax)\n",
        "        plt.vlines(x=(len(plf_VS) + 1) / 2, colors='k', ymin=0, ymax=ymax)\n",
        "    else:\n",
        "        plt.ylim(0, max(plf_TEST.max(), plf_VS.max()))\n",
        "        plt.vlines(x=(len(plf_VS) + 1) / 2, colors='k', ymin=0, ymax=max(plf_TEST.max(), plf_VS.max()))\n",
        "    plt.xlim(0, len(plf_VS) + 1)\n",
        "    plt.tick_params(axis='both', labelsize=FONTSIZE)\n",
        "    plt.xlabel('q', fontsize=FONTSIZE)\n",
        "    plt.ylabel('%', fontsize=FONTSIZE)\n",
        "    plt.legend(fontsize=FONTSIZE)\n",
        "    plt.title(name)\n",
        "    plt.legend()\n",
        "    plt.grid(True)\n",
        "    plt.tight_layout()\n",
        "    plt.savefig(dir_path + name + '.pdf')\n",
        "    plt.show()\n",
        "\n",
        "def compare_plf(dir: str, plf: list, name: str, ylim:list, labels:str):\n",
        "    \"\"\"\n",
        "    Plot the quantile score (PLF = Pinball Loss Function) per quantile on TEST sets of multiple generative models.\n",
        "    :param plf: list of the plf_score of multiple generative models. Each element of the list is an array.\n",
        "    \"\"\"\n",
        "    x_index = [q for q in range(1, len(plf[0]) + 1)]\n",
        "    FONTSIZE = 10\n",
        "    plt.figure()\n",
        "    for l, label in zip(plf, labels):\n",
        "        plt.plot(x_index, l, label=label)\n",
        "    plt.ylim(ylim[0], ylim[1])\n",
        "    plt.vlines(x=(len(plf[0])  + 1) / 2, colors='k', ymin=0, ymax=ylim[1])\n",
        "    plt.xlim(0, len(plf[0])  + 1)\n",
        "    plt.tick_params(axis='both', labelsize=FONTSIZE)\n",
        "    plt.xlabel('$q$', fontsize=FONTSIZE)\n",
        "    plt.ylabel('%', fontsize=FONTSIZE)\n",
        "    plt.legend(fontsize=1.5*FONTSIZE)\n",
        "    plt.grid(True)\n",
        "    plt.tight_layout()\n",
        "    plt.savefig(dir + name + '.pdf')\n",
        "    plt.show()\n",
        "\n",
        "def compute_reliability(y_true: np.array, y_quantile: np.array, tag: str = 'pv'):\n",
        "    \"\"\"\n",
        "    Compute averaged reliability score per day over all quantiles.\n",
        "    :param y_true: true values (n_periods, ).\n",
        "    :param y_quantile: quantiles (n_periods, n_quantiles).\n",
        "    :return: PLF array of shape (n_quantiles,)\n",
        "    \"\"\"\n",
        "    nb_q = y_quantile[0].shape[0]\n",
        "\n",
        "    aq = []\n",
        "    if tag == 'pv':\n",
        "        # WARNING REMOVE TIME PERIODS WHERE PV GENERATION IS 0 during night hours !!!!\n",
        "        # indices where PV generation is 0 at day d\n",
        "        indices = np.where(y_true == 0)[0]\n",
        "        y_true = np.delete(y_true, indices).copy()\n",
        "        y_quantile = np.delete(y_quantile, indices, axis=0).copy()\n",
        "\n",
        "    nb_periods = len(y_true)\n",
        "    for q in range(0, nb_q):\n",
        "        aq.append(sum(y_true < y_quantile[:, q]) / nb_periods)\n",
        "\n",
        "    return 100 * np.asarray(aq)\n",
        "\n",
        "\n",
        "def reliability_diag(aq_VS: np.array, aq_TEST: np.array, dir_path: str, name: str):\n",
        "    \"\"\"\n",
        "    Reliablity diagram per quantile on the VS & TEST sets.\n",
        "    :param aq_VS:  (n_quantiles, ).\n",
        "    :param aq_TEST:  (n_quantiles, ).\n",
        "    \"\"\"\n",
        "\n",
        "    N_q = aq_VS.shape[0]\n",
        "    q_set = [i / (N_q + 1) for i in range(1, N_q + 1)]\n",
        "\n",
        "    FONTSIZE = 10\n",
        "    x_index = np.array(q_set) * 100\n",
        "    plt.figure()\n",
        "    plt.plot(x_index, x_index, 'k')\n",
        "    plt.plot(x_index, aq_TEST, 'b', label='TEST')\n",
        "    plt.plot(x_index, aq_VS, 'g', label='VS')\n",
        "    plt.xlim(0, 100)\n",
        "    plt.ylim(0, 100)\n",
        "    plt.xlabel('$q$', fontsize=FONTSIZE)\n",
        "    plt.tick_params(axis='both', labelsize=FONTSIZE)\n",
        "    plt.xticks(ticks=[i for i in range(0, 100 + 10, 10)])\n",
        "    plt.yticks(ticks=[i for i in range(0, 100 + 10, 10)])\n",
        "    plt.ylabel('%', fontsize=FONTSIZE)\n",
        "    plt.title(name)\n",
        "    plt.legend(fontsize=FONTSIZE)\n",
        "    plt.grid(True)\n",
        "    plt.tight_layout()\n",
        "    plt.savefig(dir_path + name + '.pdf')\n",
        "    plt.show()\n",
        "\n",
        "\n",
        "def plot_multi_days_scenarios(quantiles: np.array, scenarios: np.array, y_true: np.array, dir_path: str, name: str, n_s: int,\n",
        "                              ylim: float = 1):\n",
        "    \"\"\"\n",
        "    Plot 4 days with subplots (2, 1).\n",
        "    :param quantiles: (n_periods, n_s).\n",
        "    :param scenarios: (n_periods, n_q).\n",
        "    :param y_true: np.array with (n_periods, )\n",
        "    \"\"\"\n",
        "\n",
        "    FONTSIZE = 10\n",
        "    x_index = [i for i in range(1, 2 * 24 + 1)]\n",
        "    fig, axs = plt.subplots(2, 1, sharex='col', sharey='row', gridspec_kw={'hspace': 0, 'wspace': 0})\n",
        "    axs[0].plot(x_index, scenarios[:2 * 24, :n_s], color='gray', linewidth=1, alpha=0.5)\n",
        "    axs[0].plot(x_index, quantiles[:2 * 24, 9], color='b', linewidth=2, label='10 %')\n",
        "    axs[0].plot(x_index, quantiles[:2 * 24, 49], color='k', linewidth=2, label='50 %')\n",
        "    axs[0].plot(x_index, quantiles[:2 * 24, 89], color='g', linewidth=2, label='90 %')\n",
        "    axs[0].plot(x_index, y_true[:2 * 24], color='r', linewidth=2, label='obs')\n",
        "    axs[0].set_ylim(0, ylim)\n",
        "    axs[0].tick_params(axis='both', labelsize=FONTSIZE)\n",
        "\n",
        "    axs[1].plot(x_index, scenarios[2 * 24:4 * 24, :n_s], color='gray', linewidth=1, alpha=0.5)\n",
        "    axs[1].plot(x_index, quantiles[2 * 24:4 * 24, 9], color='b', linewidth=2, label='10 %')\n",
        "    axs[1].plot(x_index, quantiles[2 * 24:4 * 24, 49], color='k', linewidth=2, label='50 %')\n",
        "    axs[1].plot(x_index, quantiles[2 * 24:4 * 24, 89], color='g', linewidth=2, label='90 %')\n",
        "    axs[1].plot(x_index, y_true[2 * 24:4 * 24], color='r', linewidth=2, label='obs')\n",
        "    axs[1].set_ylim(0, ylim)\n",
        "    axs[1].tick_params(axis='both', labelsize=FONTSIZE)\n",
        "\n",
        "    for ax in axs.flat:\n",
        "        ax.label_outer()\n",
        "    lines_labels = [ax.get_legend_handles_labels() for ax in fig.axes]\n",
        "    lines, labels = [sum(lol, []) for lol in zip(*lines_labels)]\n",
        "    fig.legend(lines[:4], labels[:4], fontsize=FONTSIZE, loc='center right', borderaxespad=0.)\n",
        "    plt.tight_layout()\n",
        "    plt.savefig(dir_path + name + '.pdf')\n",
        "    plt.show()\n",
        "\n",
        "def plot_scenarios(quantiles: np.array, scenarios: np.array, y_true: np.array, dir_path: str, name: str, n_s: int, n_days:int=1, ylim:list=[0, 1]):\n",
        "    \"\"\"\n",
        "    Plot n_days days in one plot consecutively.\n",
        "    :param quantiles: (n_periods, n_s).\n",
        "    :param scenarios: (n_periods, n_q).\n",
        "    :param y_true: np.array with (n_periods, )\n",
        "    \"\"\"\n",
        "    FONTSIZE = 15\n",
        "    x_index = [i for i in range(1, n_days * 24 + 1)]\n",
        "    plt.figure()\n",
        "    plt.plot(x_index, scenarios[:n_days * 24, :n_s], color='gray', linewidth=1, alpha=0.5)\n",
        "    plt.plot(x_index, quantiles[:n_days * 24, 9], color='b', linewidth=2, label='10 %')\n",
        "    plt.plot(x_index, quantiles[:n_days * 24, 49], color='k', linewidth=2, label='50 %')\n",
        "    plt.plot(x_index, quantiles[:n_days * 24, 89], color='g', linewidth=2, label='90 %')\n",
        "    plt.plot(x_index, y_true[:n_days * 24], color='r', linewidth=2, label='obs')\n",
        "    plt.ylim(ylim[0], ylim[1])\n",
        "    plt.tick_params(axis='both', labelsize=FONTSIZE)\n",
        "    legend = plt.legend(fontsize=1.5*FONTSIZE, loc='center right', borderaxespad=0.)\n",
        "    legend.remove()\n",
        "    plt.tight_layout()\n",
        "    plt.savefig(dir_path + name + '.pdf')\n",
        "    plt.show()\n",
        "\n",
        "\n",
        "def crps_per_period(scenarios: np.array, y_true: np.array, max_s: int = 100):\n",
        "    \"\"\"\n",
        "    Compute the CRPS per period or marginal. Indeed, the CRPS is a univariate score.\n",
        "    :param scenarios: of shape (n_periods, n_s) with  n_periods = n_d * 24\n",
        "    :param y_true: observations of shape (n_periods, ) with  n_periods = n_d * 24\n",
        "    :return: averaged CRPS per time period CRPS into a np.array of shape (24,)\n",
        "    \"\"\"\n",
        "    n_s = scenarios.shape[1]\n",
        "    n_periods = scenarios.shape[0]\n",
        "    n_d = int(len(y_true) / 24)\n",
        "    # compute the CRPS with at most 100 scenarios otherwise take too much time and the difference over 100 is small\n",
        "    n_s_max = min(n_s, max_s)\n",
        "\n",
        "    # compute the CRPS over the entire TEST/VS set\n",
        "    crps_t = np.asarray([crps_nrg_marginal(y_true=y_true[t], y_sampled=scenarios[t, :n_s_max]) for t in range(n_periods)])\n",
        "    crps_averaged = crps_t.reshape(n_d, 24).mean(axis=0)  # averaged CRPS per time period (or by marginal)\n",
        "\n",
        "    return crps_averaged, crps_t.reshape(n_d, 24)\n",
        "\n",
        "\n",
        "def plot_crps_per_period(dir: str, name: str, crps_TEST: np.array, crps_VS: np.array, ylim: list, max_s: int):\n",
        "    \"\"\"\n",
        "    :param crps_TEST: CRPS into a np.array of shape (24,)\n",
        "    :param crps_VS: CRPS into a np.array of shape (24,)\n",
        "    \"\"\"\n",
        "    TEST_av = 100 * crps_TEST.mean()\n",
        "    VS_av = 100 * crps_VS.mean()\n",
        "\n",
        "    FONTSIZE = 10\n",
        "    plt.figure()\n",
        "    plt.plot(100 * crps_TEST, 'b', label='TEST av = ' + str(round(TEST_av, 2)))\n",
        "    plt.plot(100 * crps_VS, 'g', label='VS av = ' + str(round(VS_av, 2)))\n",
        "    plt.hlines(y=TEST_av, xmin=0, xmax=23, colors='b')\n",
        "    plt.hlines(y=VS_av, xmin=0, xmax=23, colors='g')\n",
        "    plt.xticks(fontsize=FONTSIZE)\n",
        "    plt.yticks(fontsize=FONTSIZE)\n",
        "    plt.ylabel('%', fontsize=FONTSIZE)\n",
        "    plt.legend(fontsize=FONTSIZE)\n",
        "    plt.ylim(ylim[0], ylim[1])\n",
        "    plt.tight_layout()\n",
        "    plt.savefig(dir + name + '_crps_' + str(max_s) + '.pdf')\n",
        "    plt.show()\n",
        "\n",
        "\n",
        "def quantiles_and_evaluation(dir_path: str, s_VS: np.array, s_TEST: np.array, N_q: int, df_y_VS: pd.DataFrame,\n",
        "                             df_y_TEST: pd.DataFrame, name: str, ymax_plf: float, ylim_crps: list, tag: str,\n",
        "                             nb_zones: int):\n",
        "    \"\"\"\n",
        "    Compute quantiles from scenarios.\n",
        "    Compute metrics:\n",
        "    - PLF\n",
        "    - reliability diagrams\n",
        "    - CRPS\n",
        "    - plots of scenarios & quantiles\n",
        "    #VS or #TEST = number of days of VS or TEST sets\n",
        "    :param s_VS: array (#VS*24, n_s)\n",
        "    :param s_TEST: array (#TEST*24, n_s)\n",
        "    :param N_q: number of quantiles/percentiles.\n",
        "    :param df_y_VS: VS true values into a pd.DataFrame with shape (#VS, 24)\n",
        "    :param df_y_TEST: TEST true values into a pd.DataFrame with shape (#TEST, 24)\n",
        "    :param name: name to export plots\n",
        "    :param tag: pv, wind, load\n",
        "    :param nb_zones: number of zones (PV 3, wind 10, load 1)\n",
        "    \"\"\"\n",
        "    # --------------------------------------------------------------------------------------------------------------\n",
        "    # 1. Generate quantiles from scenarios\n",
        "    # --------------------------------------------------------------------------------------------------------------\n",
        "    print(\"##### 1. Generate quantiles from scenarios ##### \")\n",
        "    n_s = s_VS.shape[1]\n",
        "\n",
        "    q_set = [i / (N_q + 1) for i in range(1, N_q + 1)]\n",
        "    # Quantiles are generated into an array of shape (n_day*24, N_q)\n",
        "    q_TEST = np.quantile(s_TEST, q=q_set, axis=1).transpose()\n",
        "    q_VS = np.quantile(s_VS, q=q_set, axis=1).transpose()\n",
        "\n",
        "    # --------------------------------------------------------------------------------------------------------------\n",
        "    # 2. PLF TEST & VS\n",
        "    # --------------------------------------------------------------------------------------------------------------\n",
        "    print(\"##### 2. PLF TEST & VS #####\")\n",
        "    plf_TEST = plf_per_quantile(quantiles=q_TEST, y_true=df_y_TEST.values.reshape(-1))\n",
        "    plf_VS = plf_per_quantile(quantiles=q_VS, y_true=df_y_VS.values.reshape(-1))\n",
        "    print('PLF TEST %.4f VS %.4f' % (plf_TEST.mean(), plf_VS.mean()))\n",
        "    print('')\n",
        "\n",
        "    plot_plf_per_quantile(plf_VS=plf_VS, plf_TEST=plf_TEST, dir_path=dir_path, name='plf_' + name + '_' + str(n_s),\n",
        "                          ymax=ymax_plf)\n",
        "\n",
        "    # --------------------------------------------------------------------------------------------------------------\n",
        "    # 3. Reliability diagram\n",
        "    # --------------------------------------------------------------------------------------------------------------\n",
        "    print(\"##### 3. Reliability diagram #####\")\n",
        "    nb_days_VS = len(df_y_VS)\n",
        "    nb_days_TEST = len(df_y_TEST)\n",
        "\n",
        "    aq_TEST = compute_reliability(y_true=df_y_TEST.values.reshape(-1), y_quantile=q_TEST, tag=tag)\n",
        "    aq_VS = compute_reliability(y_true=df_y_VS.values.reshape(-1), y_quantile=q_VS, tag=tag)\n",
        "    reliability_diag(aq_VS=aq_VS, aq_TEST=aq_TEST, dir_path=dir_path, name='reliability_' + name + '_' + str(n_s))\n",
        "\n",
        "    mae_TEST = mean_absolute_error(y_true=np.array(q_set) * 100, y_pred=aq_TEST)\n",
        "    mae_VS = mean_absolute_error(y_true=np.array(q_set) * 100, y_pred=aq_VS)\n",
        "    rmse_TEST = math.sqrt(mean_squared_error(y_true=np.array(q_set) * 100, y_pred=aq_TEST))\n",
        "    rmse_VS = math.sqrt(mean_squared_error(y_true=np.array(q_set) * 100, y_pred=aq_VS))\n",
        "    print('MAE TEST %.2f VS %.2f' % (mae_TEST, mae_VS))\n",
        "    print('RMSE TEST %.2f VS %.2f' % (rmse_TEST, rmse_VS))\n",
        "    print('')\n",
        "\n",
        "    # --------------------------------------------------------------------------------------------------------------\n",
        "    # 4. PLOT 50 scenarios on the first 4 days of the TEST set over all the zones\n",
        "    # --------------------------------------------------------------------------------------------------------------\n",
        "    # print(\"##### 4. PLOT 50 scenarios on the first 4 days of the TEST set over all the zones #####\")\n",
        "    # nb_days_per_zone = int(nb_days_TEST / nb_zones)\n",
        "    # # WARNING only for the first zone\n",
        "    # for z in range(nb_zones):\n",
        "    #     print(\"zone : \", z)\n",
        "    #     plot_multi_days_scenarios(quantiles=q_TEST[24 * nb_days_per_zone * z:24 * nb_days_per_zone * (z + 1), :],\n",
        "    #                               scenarios=s_TEST[24 * nb_days_per_zone * z:24 * nb_days_per_zone * (z + 1), :],\n",
        "    #                               y_true=df_y_TEST.values.reshape(-1)[\n",
        "    #                               24 * nb_days_per_zone * z:24 * nb_days_per_zone * (z + 1)], dir_path=dir_path,\n",
        "    #                               name='TEST_zone_' + str(z) + '_' + name, n_s=50, ylim=1)\n",
        "    # --------------------------------------------------------------------------------------------------------------\n",
        "    # CRPS\n",
        "    # --------------------------------------------------------------------------------------------------------------\n",
        "    max_s = 100\n",
        "    crps_TEST, crps_d_TEST = crps_per_period(scenarios=s_TEST, y_true=df_y_TEST.values.reshape(-1), max_s=max_s)\n",
        "    crps_VS, crps_d_VS = crps_per_period(scenarios=s_VS, y_true=df_y_VS.values.reshape(-1), max_s=max_s)\n",
        "\n",
        "    # print('CRPS TEST %.2f VS %.2f' % (100 * crps_TEST.mean(), 100 * crps_VS.mean()))\n",
        "    # print('')\n",
        "\n",
        "    # print('shapes: ' + str(crps_TEST.shape))\n",
        "    # plot_crps_per_period(dir=dir_path, name=name, crps_TEST=crps_TEST, crps_VS=crps_VS, ylim=ylim_crps, max_s=max_s)\n",
        "\n",
        "    return plf_TEST.mean(), mae_TEST, crps_TEST.mean()\n",
        "\n",
        "def plot_corr_heat_map(dir: str, name: str, df_corr: pd.DataFrame, vlim: list):\n",
        "    \"\"\"\n",
        "    Plot the correlation matrix with a heatmap\n",
        "    cmap with _r = reverses the normal order of the color map 'RdYlGn'\n",
        "    \"\"\"\n",
        "    FONTSIZE =15\n",
        "    plt.figure()\n",
        "    sns_plot = sns.heatmap(df_corr, cmap='RdYlGn_r', fmt=\".1f\", linewidths=0.5, xticklabels=False, yticklabels=False,\n",
        "                           annot=False, vmin=vlim[0], vmax=vlim[1],cbar=False)\n",
        "    sns_plot.set_yticklabels(sns_plot.get_yticklabels(), rotation='horizontal')\n",
        "    cb = sns_plot.figure.colorbar(sns_plot.collections[0])  # Display colorbar\n",
        "    cb.ax.tick_params(labelsize=FONTSIZE)  # Set the colorbar scale font size.\n",
        "    plt.tight_layout()\n",
        "    plt.savefig(dir + name + '_corr.pdf')\n",
        "    plt.show()\n",
        "\n",
        "def quality_comparison_per_track(dir_path: str, N_q: int, df_y: pd.DataFrame, name: str, ylim_plf: list, ylim_crps: list, tag: str, crps:bool=True):\n",
        "    \"\"\"\n",
        "    Compare the generative models with quality scores:\n",
        "    - PLF\n",
        "    - reliability diagrams\n",
        "    - CRPS\n",
        "    - plots of scenarios & quantiles\n",
        "    :param N_q: number of quantiles/percentiles.\n",
        "    :param df_y: true values into a pd.DataFrame with shape (#TEST, 24) where #TEST = number of days of the TEST set\n",
        "    :param name: name to export plots\n",
        "    :param tag: pv, wind, load\n",
        "    \"\"\"\n",
        "    nf_a_id = {'pv': 10,\n",
        "               'wind': 8,\n",
        "               'load': 1}\n",
        "    nf_umnn_id = {'pv': 3,\n",
        "               'wind': 1,\n",
        "               'load': 1}\n",
        "\n",
        "    y_true = df_y.values.reshape(-1) # reshape from (#TEST, 24) to (24*,#TEST)\n",
        "    # --------------------------------------------------------------------------------------------------------------\n",
        "    # 0. Load scenarios on the TS for 'NF-UMNN', 'NF-A', 'VAE', 'GAN', 'GC', 'RAND'\n",
        "    # --------------------------------------------------------------------------------------------------------------\n",
        "    labels = ['NF-UMNN', 'NF-A', 'VAE', 'GAN', 'GC', 'RAND']\n",
        "    # scenarios shape = (24*n_days, n_s)\n",
        "    s_umnn = read_file(dir='scenarios/nfs/', name='scenarios_' + tag + '_UMNN_M_' + str(nf_umnn_id[tag]) + '_0_100_TEST')\n",
        "    s_an = read_file(dir='scenarios/nfs/', name='scenarios_' + tag + '_AN_M_' + str(nf_a_id[tag]) + '_0_100_TEST')\n",
        "    s_vae = read_file(dir='scenarios/vae/', name='scenarios_' + tag + '_VAElinear_1_0_100_TEST')\n",
        "    s_gan = read_file(dir='scenarios/gan/', name='scenarios_' + tag + '_GAN_wasserstein_1_0_100_TEST')\n",
        "    s_gc = read_file(dir='scenarios/gc/', name='scenarios_' + tag + '_gc_100_TEST')\n",
        "    s_rand = read_file(dir='scenarios/random/', name='scenarios_' + tag + '_random_100_TEST')\n",
        "    scenarios_list = [s_umnn, s_an, s_vae, s_gan, s_gc, s_rand]\n",
        "\n",
        "    # --------------------------------------------------------------------------------------------------------------\n",
        "    # 1. Generate quantiles from scenarios\n",
        "    # --------------------------------------------------------------------------------------------------------------\n",
        "\n",
        "    q_set = [i / (N_q + 1) for i in range(1, N_q + 1)]\n",
        "    # Quantiles are generated into an array of shape (n_day*24, N_q), the same shape than scenarios\n",
        "    quantiles_list = []\n",
        "    for s in scenarios_list:\n",
        "        quantiles_list.append(np.quantile(s, q=q_set, axis=1).transpose())\n",
        "\n",
        "    # --------------------------------------------------------------------------------------------------------------\n",
        "    # 2. PLF TEST & VS\n",
        "    # --------------------------------------------------------------------------------------------------------------\n",
        "    plf_list = []\n",
        "\n",
        "    for q in quantiles_list:\n",
        "        plf_list.append(plf_per_quantile(quantiles=q, y_true=y_true))\n",
        "\n",
        "    print('PLF TS UMNN %.2f AN %.2f VAE %.2f GAN %.2f GC %.2f rand %.2f' % (plf_list[0].mean(), plf_list[1].mean(), plf_list[2].mean(), plf_list[3].mean(), plf_list[4].mean(), plf_list[5].mean()))\n",
        "    print('')\n",
        "\n",
        "    compare_plf(dir=dir_path, plf=plf_list, name='plf_' + name, ylim=ylim_plf, labels=labels)\n",
        "\n",
        "    # --------------------------------------------------------------------------------------------------------------\n",
        "    # 3. Reliability diagram\n",
        "    # --------------------------------------------------------------------------------------------------------------\n",
        "    aq_list = []\n",
        "    for q in quantiles_list:\n",
        "        aq_list.append(compute_reliability(y_true=y_true, y_quantile=q, tag=tag))\n",
        "\n",
        "    compare_reliability_diag(dir=dir_path, aq=aq_list, name='reliability_' + name, labels=labels)\n",
        "    mae_list = []\n",
        "    for a in aq_list:\n",
        "        mae_list.append(mean_absolute_error(y_true=np.array(q_set) * 100, y_pred=a))\n",
        "\n",
        "    print('MAE TS UMNN %.2f AN %.2f VAE %.2f GAN %.2f GC %.2f rand %.2f' % (mae_list[0], mae_list[1], mae_list[2], mae_list[3], mae_list[4], mae_list[5]))\n",
        "    print('')\n",
        "\n",
        "    # --------------------------------------------------------------------------------------------------------------\n",
        "    # CRPS\n",
        "    # --------------------------------------------------------------------------------------------------------------\n",
        "    if crps:\n",
        "        max_s = 100\n",
        "        crps_list = []\n",
        "        for s in scenarios_list:\n",
        "            crps, crps_d = crps_per_period(scenarios=s, y_true=y_true, max_s=max_s)\n",
        "            crps_list.append(crps)\n",
        "\n",
        "        print('CRPS TEST UMNN %.2f AN %.2f VAE %.2f GAN %.2f GC %.2f rand %.2f' % (100*crps_list[0].mean(), 100*crps_list[1].mean(), 100*crps_list[2].mean(), 100*crps_list[3].mean(), 100*crps_list[4].mean(), 100*crps_list[5].mean()))\n",
        "        print('')\n",
        "\n",
        "        compare_crps(dir=dir_path, crps=crps_list, name='crps_' + name, ylim=ylim_crps, labels=labels)\n",
        "\n",
        "    # --------------------------------------------------------------------------------------------------------------\n",
        "    # 4. PLOT 50 scenarios only over the first zone for PV and wind\n",
        "    # --------------------------------------------------------------------------------------------------------------\n",
        "    for q, s, model in zip(quantiles_list, scenarios_list, labels):\n",
        "        plot_multi_days_scenarios(quantiles=q, scenarios=s, y_true=y_true, dir_path=dir_path, name='TEST_zone_1_multi_' + name + '_' + model, n_s=50, ylim=1)\n",
        "        if tag == 'load':\n",
        "            ylim = [0.2, 0.9]\n",
        "        else:\n",
        "            ylim = [0, 1]\n",
        "        plot_scenarios(quantiles=q, scenarios=s, y_true=y_true, dir_path=dir_path, name='TEST_zone_1_' + name + '_' + model, n_s=50, n_days=1, ylim=ylim)\n",
        "\n",
        "\n",
        "def compare_reliability_diag(dir: str, aq: list, name: str, labels:str):\n",
        "    \"\"\"\n",
        "    Reliablity diagram per quantile.\n",
        "    :param aq: list of the aq scores of multiple generative models. Each element of the list is an array of shape (n_q,).\n",
        "    \"\"\"\n",
        "\n",
        "    N_q = aq[0].shape[0]\n",
        "    q_set = [i / (N_q + 1) for i in range(1, N_q + 1)]\n",
        "    x_index = np.array(q_set) * 100\n",
        "\n",
        "    FONTSIZE = 10\n",
        "    plt.figure()\n",
        "    plt.plot(x_index, x_index, 'k', linewidth=2)\n",
        "    for a, label in zip(aq, labels):\n",
        "        plt.plot(x_index, a, label=label)\n",
        "    plt.xlim(0, 100)\n",
        "    plt.ylim(0, 100)\n",
        "    plt.xlabel('$q$', fontsize=FONTSIZE)\n",
        "    plt.tick_params(axis='both', labelsize=FONTSIZE)\n",
        "    plt.xticks(ticks=[i for i in range(0, 100 + 10, 10)])\n",
        "    plt.yticks(ticks=[i for i in range(0, 100 + 10, 10)])\n",
        "    plt.ylabel('%', fontsize=FONTSIZE)\n",
        "    # plt.title(name)\n",
        "    plt.legend(fontsize=1.5*FONTSIZE)\n",
        "    plt.grid(True)\n",
        "    plt.tight_layout()\n",
        "    plt.savefig(dir + name + '.pdf')\n",
        "    plt.show()\n",
        "\n",
        "def compare_crps(dir: str, crps: list, name: str, ylim:list, labels:str):\n",
        "    \"\"\"\n",
        "    :param crps: list of the crps scores of multiple generative models. Each element of the list is an array.\n",
        "    \"\"\"\n",
        "\n",
        "    FONTSIZE = 10\n",
        "    plt.figure()\n",
        "    for c, label in zip(crps, labels):\n",
        "        plt.plot(100 * c, label=label)\n",
        "    plt.tick_params(axis='both', labelsize=FONTSIZE)\n",
        "    plt.ylabel('%', fontsize=FONTSIZE)\n",
        "    plt.legend(fontsize=1.5*FONTSIZE)\n",
        "    plt.grid(True)\n",
        "    plt.ylim(ylim[0], ylim[1])\n",
        "    plt.tight_layout()\n",
        "    plt.savefig(dir + name + '.pdf')\n",
        "    plt.show()\n"
      ],
      "metadata": {
        "id": "JrhKDQxPkDrD"
      },
      "execution_count": 6,
      "outputs": []
    },
    {
      "cell_type": "markdown",
      "source": [
        "#Correlations metrics"
      ],
      "metadata": {
        "id": "aIh3gKyeUrxH"
      }
    },
    {
      "cell_type": "code",
      "source": [
        "def correlationScenarios(s: np.array, y_true: np.array):\n",
        "    \"\"\"\n",
        "    Compute the average of the correlation between n_s scenarios and real values\n",
        "    :param s: scenarios of shape (24*n_days, n_s)\n",
        "    :param y_true: observations of shape = (n_days, 24)\n",
        "\n",
        "    return\n",
        "    \"\"\"\n",
        "\n",
        "    print(\"###########\")\n",
        "    print(s.shape)\n",
        "    print(y_true.shape)\n",
        "\n",
        "    \n",
        "    n_d = len(y_true)  # number of days\n",
        "    n_s = s.shape[1]  # number of scenarios per day\n",
        "    scenarios = s.reshape(int(s.shape[0]/24), 24, n_s)\n",
        "    correlations = []\n",
        "\n",
        "\n",
        "    # Average correlation between true load and n_s scenario -> 1 value per day of the DS\n",
        "    # return a list of size n_d\n",
        "    for i in range(n_d):\n",
        "        true_load = y_true[i]\n",
        "        corr = 0\n",
        "        for j in range(n_s):\n",
        "            current_scenar = scenarios[i,:,j]\n",
        "            corr_matrix = np.corrcoef(current_scenar, true_load)\n",
        "            corr += (corr_matrix[0,1] + corr_matrix[1,0] ) / 2 \n",
        "        correlations.append(corr/n_s)\n",
        "\n",
        "\n",
        "    # Average of the correlation between all the scenarios associated to 1 sample from the DS.\n",
        "    # Return an array of size (24,24)\n",
        "    auto_corr = np.zeros(pd.DataFrame(scenarios[:,:,0]).corr(method=\"pearson\").shape)\n",
        "    for i in range(n_s):\n",
        "        auto_corr = np.add(auto_corr, pd.DataFrame(scenarios[:,:,i]).corr(method=\"pearson\").values)\n",
        "    \n",
        "    auto_corr = auto_corr / n_s\n",
        "\n",
        "    return correlations, auto_corr"
      ],
      "metadata": {
        "id": "4nXhr5s4UsIU"
      },
      "execution_count": 7,
      "outputs": []
    },
    {
      "cell_type": "markdown",
      "source": [
        "#Format"
      ],
      "metadata": {
        "id": "jjd1-iIXWY-m"
      }
    },
    {
      "cell_type": "code",
      "source": [
        "def summary(metric ,tag):\n",
        "    print(\"-\"*20 + tag + \"-\"*20)\n",
        "    print(f\"Min: {np.min(metric)}\")\n",
        "    print(f\"Max: {np.max(metric)}\")\n",
        "    print(f\"Mean: {np.mean(metric)}\")\n",
        "    print(f\"STD: {np.std(metric)}\")\n",
        "    print(f\"Median: {np.median(metric)}\")"
      ],
      "metadata": {
        "id": "51-ps6aCWanm"
      },
      "execution_count": 8,
      "outputs": []
    },
    {
      "cell_type": "markdown",
      "source": [
        "# Specific function PV"
      ],
      "metadata": {
        "id": "JYUjiFkptFWd"
      }
    },
    {
      "cell_type": "code",
      "source": [
        "def rebuild(null_zones, x):\n",
        "  new_x = []\n",
        "  for pv in x:\n",
        "    new_pv = np.ones(24)\n",
        "    new_pv[null_zones] = 0\n",
        "    new_pv[np.where(new_pv == 1)] = pv\n",
        "    new_x.append(new_pv)\n",
        "  return np.array(new_x)\n",
        "\n",
        "def rebuild_scenar(null_zones, x):\n",
        "  new_x = []\n",
        "  for pv_scenarios in x:\n",
        "    new_pv = np.ones((pv_scenarios.shape[0]+ len(null_zones),pv_scenarios.shape[1]))\n",
        "    new_pv[null_zones,:] = 0\n",
        "    prev_shape = new_pv.shape\n",
        "    new_pv[np.where(new_pv == 1)] = pv_scenarios.reshape( new_pv[np.where(new_pv == 1)].shape)\n",
        "    new_pv.reshape(prev_shape)\n",
        "    new_x.append(new_pv)\n",
        "  return np.array(new_x)"
      ],
      "metadata": {
        "id": "k7jCed3UtKFp"
      },
      "execution_count": 12,
      "outputs": []
    },
    {
      "cell_type": "markdown",
      "source": [
        "# Impact of the training loop"
      ],
      "metadata": {
        "id": "RmraFoRDjqGh"
      }
    },
    {
      "cell_type": "code",
      "source": [
        "with open(\"/content/drive/MyDrive/TFE/scenarios/pv_diff_100_epoch_5000_shuffle_cha_8_la_8_dil_4_small_1t.npy\", 'rb') as f:\n",
        "  s_TEST_stocha = np.load(f)\n",
        "with open(\"/content/drive/MyDrive/TFE/scenarios/pv_gt_cha_8_la_8_dil_4_small_1t.npy\", 'rb') as f:\n",
        "  gt_stocha = np.load(f)\n",
        "\n",
        "\n",
        "with open(\"/content/drive/MyDrive/TFE/scenarios/pv/pv_diff_100_epoch_50_shuffle_cha_8_la_8_dil_4.npy\", 'rb') as f:\n",
        "  s_TEST_iter = np.load(f)\n",
        "with open(\"/content/drive/MyDrive/TFE/scenarios/pv_gt_cha_8_la_8_dil_4_small_1t.npy\", 'rb') as f:\n",
        "  gt_iter = np.load(f)\n",
        "\n",
        "gt_stocha = rebuild([0, 1, 2, 3, 20, 21 ,22, 23], gt_stocha)\n",
        "s_TEST_stocha = rebuild_scenar([0, 1, 2, 3, 20, 21 ,22, 23], s_TEST_stocha)\n",
        "\n",
        "gt_iter = rebuild([0, 1, 2, 3, 20, 21 ,22, 23], gt_iter)\n",
        "s_TEST_iter = rebuild_scenar([0, 1, 2, 3, 20, 21 ,22, 23], s_TEST_iter)\n"
      ],
      "metadata": {
        "id": "MtZaEAzWXhVC"
      },
      "execution_count": 13,
      "outputs": []
    },
    {
      "cell_type": "code",
      "source": [
        "n_s = 100\n",
        "N_q = 99\n",
        "\n",
        "# Quantiles are generated into an array of shape (n_day*24, N_q)\n",
        "q_set = [i / (N_q + 1) for i in range(1, N_q + 1)]\n",
        "quantiles = np.quantile(s_TEST_stocha.reshape((s_TEST_stocha.shape[0]*s_TEST_stocha.shape[1], s_TEST_stocha.shape[2])), q=q_set, axis=1).transpose()\n",
        "\n",
        "point = random.randint(0, gt_stocha.shape[0] - 1)\n",
        "print(point)\n",
        "point = 10\n",
        "\n",
        "plt.title(\"Example of generated load\")\n",
        "plt.plot(gt_stocha[point], color = 'red', label = 'ground truth')\n",
        "plt.plot(s_TEST_stocha[point, :, :], color='gray', linewidth=1, alpha=0.5)\n",
        "plt.plot(quantiles[point * 24:(point+1)*24, 9], color='b', linewidth=2, label='10 %')\n",
        "plt.plot(quantiles[point * 24:(point+1)*24, 49], color='k', linewidth=2, label='50 %')\n",
        "plt.plot(quantiles[point * 24:(point+1)*24, 89], color='g', linewidth=2, label='90 %')\n",
        "plt.legend()\n",
        "plt.show()\n",
        "plt.clf()\n",
        "\n",
        "s_TEST_stocha = s_TEST_stocha.reshape(24*s_TEST_stocha.shape[0], n_s)"
      ],
      "metadata": {
        "id": "M3o5b_1dr73_",
        "outputId": "8723317f-e29b-4bf4-a8cc-f1610d592d7a",
        "colab": {
          "base_uri": "https://localhost:8080/",
          "height": 317
        }
      },
      "execution_count": 14,
      "outputs": [
        {
          "output_type": "stream",
          "name": "stdout",
          "text": [
            "18\n"
          ]
        },
        {
          "output_type": "display_data",
          "data": {
            "text/plain": [
              "<Figure size 432x288 with 1 Axes>"
            ],
            "image/png": "[encoded data removed]"
          },
          "metadata": {
            "needs_background": "light"
          }
        },
        {
          "output_type": "display_data",
          "data": {
            "text/plain": [
              "<Figure size 432x288 with 0 Axes>"
            ]
          },
          "metadata": {}
        }
      ]
    },
    {
      "cell_type": "code",
      "source": [
        "n_s = 100\n",
        "N_q = 99\n",
        "\n",
        "# Quantiles are generated into an array of shape (n_day*24, N_q)\n",
        "q_set = [i / (N_q + 1) for i in range(1, N_q + 1)]\n",
        "quantiles = np.quantile(s_TEST_iter.reshape((s_TEST_iter.shape[0]*s_TEST_iter.shape[1], s_TEST_iter.shape[2])), q=q_set, axis=1).transpose()\n",
        "\n",
        "point = random.randint(0, gt_iter.shape[0] - 1)\n",
        "print(point)\n",
        "point = 10\n",
        "\n",
        "plt.title(\"Example of generated load\")\n",
        "plt.plot(gt_iter[point], color = 'red', label = 'ground truth')\n",
        "plt.plot(s_TEST_iter[point, :, :], color='gray', linewidth=1, alpha=0.5)\n",
        "plt.plot(quantiles[point * 24:(point+1)*24, 9], color='b', linewidth=2, label='10 %')\n",
        "plt.plot(quantiles[point * 24:(point+1)*24, 49], color='k', linewidth=2, label='50 %')\n",
        "plt.plot(quantiles[point * 24:(point+1)*24, 89], color='g', linewidth=2, label='90 %')\n",
        "plt.legend()\n",
        "plt.show()\n",
        "plt.clf()\n",
        "\n",
        "s_TEST_iter = s_TEST_iter.reshape(24*s_TEST_iter.shape[0], n_s)\n"
      ],
      "metadata": {
        "id": "nwFrJbBfsTmT",
        "outputId": "e45e69dd-354d-468f-df25-9d92a46cb01d",
        "colab": {
          "base_uri": "https://localhost:8080/",
          "height": 317
        }
      },
      "execution_count": 15,
      "outputs": [
        {
          "output_type": "stream",
          "name": "stdout",
          "text": [
            "1\n"
          ]
        },
        {
          "output_type": "display_data",
          "data": {
            "text/plain": [
              "<Figure size 432x288 with 1 Axes>"
            ],
            "image/png": "[encoded data removed]"
          },
          "metadata": {
            "needs_background": "light"
          }
        },
        {
          "output_type": "display_data",
          "data": {
            "text/plain": [
              "<Figure size 432x288 with 0 Axes>"
            ]
          },
          "metadata": {}
        }
      ]
    },
    {
      "cell_type": "markdown",
      "source": [
        "# Metrics\n"
      ],
      "metadata": {
        "id": "JmDwaxXaDQvA"
      }
    },
    {
      "cell_type": "code",
      "source": [
        "#To get shape right -> 16 -> 24\n",
        "y = df_y_TEST.values\n",
        "pv_rebuild_TEST = rebuild([0, 1, 2, 3, 20, 21 ,22, 23], df_y_TEST.values)\n",
        "df_TEST_24 = pd.DataFrame(data=pv_rebuild_TEST)\n",
        "\n",
        "plf_TEST_iter, mae_TEST_iter, crps_TEST_iter = quantiles_and_evaluation(dir_path=dir_path, s_VS=s_TEST_iter, s_TEST=s_TEST_iter, N_q=N_q, df_y_VS=df_TEST_24, df_y_TEST=df_TEST_24, name='tag_6', ymax_plf=ymax_plf, ylim_crps=ylim_crps, tag=tag, nb_zones=nb_zones)"
      ],
      "metadata": {
        "id": "cksv_nN2soWw",
        "outputId": "a0462031-8f10-4726-b877-8eb32cb56873",
        "colab": {
          "base_uri": "https://localhost:8080/",
          "height": 721
        }
      },
      "execution_count": 17,
      "outputs": [
        {
          "output_type": "stream",
          "name": "stdout",
          "text": [
            "##### 1. Generate quantiles from scenarios ##### \n",
            "##### 2. PLF TEST & VS #####\n",
            "PLF TEST 2.0518 VS 2.0518\n",
            "\n"
          ]
        },
        {
          "output_type": "display_data",
          "data": {
            "text/plain": [
              "<Figure size 432x288 with 1 Axes>"
            ],
            "image/png": "[encoded data removed]"
          },
          "metadata": {
            "needs_background": "light"
          }
        },
        {
          "output_type": "stream",
          "name": "stdout",
          "text": [
            "##### 3. Reliability diagram #####\n"
          ]
        },
        {
          "output_type": "display_data",
          "data": {
            "text/plain": [
              "<Figure size 432x288 with 1 Axes>"
            ],
            "image/png": "[encoded data removed]"
          },
          "metadata": {
            "needs_background": "light"
          }
        },
        {
          "output_type": "stream",
          "name": "stdout",
          "text": [
            "MAE TEST 5.76 VS 5.76\n",
            "RMSE TEST 6.54 VS 6.54\n",
            "\n"
          ]
        }
      ]
    },
    {
      "cell_type": "code",
      "source": [
        "#To get shape right -> 16 -> 24\n",
        "y = df_y_TEST.values\n",
        "pv_rebuild_TEST = rebuild([0, 1, 2, 3, 20, 21 ,22, 23], df_y_TEST.values)\n",
        "df_TEST_24 = pd.DataFrame(data=pv_rebuild_TEST)\n",
        "\n",
        "plf_TEST_stocha, mae_TEST_stocha, crps_TEST_stocha = quantiles_and_evaluation(dir_path=dir_path, s_VS=s_TEST_stocha, s_TEST=s_TEST_stocha, N_q=N_q, df_y_VS=df_TEST_24, df_y_TEST=df_TEST_24, name='tag_6', ymax_plf=ymax_plf, ylim_crps=ylim_crps, tag=tag, nb_zones=nb_zones)"
      ],
      "metadata": {
        "id": "vxNJkNlzDh0e",
        "outputId": "21c20bd5-9c98-4408-d4ad-a1b598e8b199",
        "colab": {
          "base_uri": "https://localhost:8080/",
          "height": 721
        }
      },
      "execution_count": 18,
      "outputs": [
        {
          "output_type": "stream",
          "name": "stdout",
          "text": [
            "##### 1. Generate quantiles from scenarios ##### \n",
            "##### 2. PLF TEST & VS #####\n",
            "PLF TEST 1.6231 VS 1.6231\n",
            "\n"
          ]
        },
        {
          "output_type": "display_data",
          "data": {
            "text/plain": [
              "<Figure size 432x288 with 1 Axes>"
            ],
            "image/png": "[encoded data removed]"
          },
          "metadata": {
            "needs_background": "light"
          }
        },
        {
          "output_type": "stream",
          "name": "stdout",
          "text": [
            "##### 3. Reliability diagram #####\n"
          ]
        },
        {
          "output_type": "display_data",
          "data": {
            "text/plain": [
              "<Figure size 432x288 with 1 Axes>"
            ],
            "image/png": "[encoded data removed]"
          },
          "metadata": {
            "needs_background": "light"
          }
        },
        {
          "output_type": "stream",
          "name": "stdout",
          "text": [
            "MAE TEST 3.77 VS 3.77\n",
            "RMSE TEST 4.10 VS 4.10\n",
            "\n"
          ]
        }
      ]
    },
    {
      "cell_type": "code",
      "source": [
        "energy_iter = np.mean(energy_score(s_TEST_iter, gt_iter))\n",
        "variogram_iter = np.mean(variogram_score(s_TEST_iter, gt_iter, 0.5))\n",
        "\n",
        "energy_stocha = np.mean(energy_score(s_TEST_stocha, gt_stocha))\n",
        "variogram_stocha = np.mean(variogram_score(s_TEST_stocha, gt_stocha, 0.5))\n"
      ],
      "metadata": {
        "id": "AxY3e580HWgQ",
        "outputId": "1688615b-8f06-42d9-e268-5bcb2b9e5a79",
        "colab": {
          "base_uri": "https://localhost:8080/"
        }
      },
      "execution_count": 19,
      "outputs": [
        {
          "output_type": "stream",
          "name": "stdout",
          "text": [
            "###########\n",
            "(3600, 100)\n",
            "(150, 24)\n",
            "###########\n",
            "(3600, 100)\n",
            "(150, 24)\n",
            "###########\n",
            "(3600, 100)\n",
            "(150, 24)\n",
            "###########\n",
            "(3600, 100)\n",
            "(150, 24)\n"
          ]
        }
      ]
    },
    {
      "cell_type": "code",
      "source": [
        "plf_TEST_iter, crps_TEST_iter*100, mae_TEST_iter, energy_iter*100, variogram_iter"
      ],
      "metadata": {
        "id": "5uEbxZhoHo4u",
        "outputId": "b9af5fa2-ce74-4703-9460-ee65b65e5551",
        "colab": {
          "base_uri": "https://localhost:8080/"
        }
      },
      "execution_count": 20,
      "outputs": [
        {
          "output_type": "execute_result",
          "data": {
            "text/plain": [
              "(2.0518026306283748,\n",
              " 4.059825922195951,\n",
              " 5.759885133642589,\n",
              " 36.05632870576977,\n",
              " 9.77481734457638)"
            ]
          },
          "metadata": {},
          "execution_count": 20
        }
      ]
    },
    {
      "cell_type": "code",
      "source": [
        "plf_TEST_stocha, crps_TEST_stocha*100, mae_TEST_stocha, energy_stocha*100, variogram_stocha"
      ],
      "metadata": {
        "id": "I6IBW-2_I9BG",
        "outputId": "4d428e18-bcdb-4585-b633-5b2e97c99227",
        "colab": {
          "base_uri": "https://localhost:8080/"
        }
      },
      "execution_count": 21,
      "outputs": [
        {
          "output_type": "execute_result",
          "data": {
            "text/plain": [
              "(1.623099985152731,\n",
              " 3.2147964622476746,\n",
              " 3.7695845131232795,\n",
              " 29.370641429801132,\n",
              " 6.884904672681705)"
            ]
          },
          "metadata": {},
          "execution_count": 21
        }
      ]
    },
    {
      "cell_type": "markdown",
      "source": [
        "# Stocha always better"
      ],
      "metadata": {
        "id": "Y7NVZld2URK6"
      }
    }
  ]
}